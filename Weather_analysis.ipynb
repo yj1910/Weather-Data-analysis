{
 "cells": [
  {
   "cell_type": "markdown",
   "metadata": {},
   "source": [
    "## Weather datasheet analysis & data analysis queries"
   ]
  },
  {
   "cell_type": "code",
   "execution_count": null,
   "metadata": {},
   "outputs": [],
   "source": [
    "import pandas as pd\n",
    "data = pd.read_csv(r\"add here you .csv file path")   #export csv file in python"
   ]
  },
  {
   "cell_type": "code",
   "execution_count": null,
   "metadata": {
    "scrolled": true
   },
   "outputs": [],
   "source": [
    "data.head(10)      #top 10 rows show"
   ]
  },
  {
   "cell_type": "code",
   "execution_count": null,
   "metadata": {},
   "outputs": [],
   "source": [
    "data.columns       #show colmns"
   ]
  },
  {
   "cell_type": "code",
   "execution_count": null,
   "metadata": {},
   "outputs": [],
   "source": [
    "data.shape         #row ,cloumn"
   ]
  },
  {
   "cell_type": "code",
   "execution_count": null,
   "metadata": {},
   "outputs": [],
   "source": [
    "data.dtypes        #type"
   ]
  },
  {
   "cell_type": "code",
   "execution_count": null,
   "metadata": {},
   "outputs": [],
   "source": [
    "# Unique value of wind speed\n",
    "data[\"Wind Speed_km/h\"].unique()"
   ]
  },
  {
   "cell_type": "code",
   "execution_count": null,
   "metadata": {},
   "outputs": [],
   "source": [
    "# Number of time weather is clear\n",
    "data[\"Weather\"].value_counts()      # Method 1(valuecount)\n",
    "data[data.Weather==\"Clear\"]         #Method 2 (filtering)\n",
    "data.groupby(\"Weather\").get_group(\"Clear\")         # Methopd 3 (groubby)"
   ]
  },
  {
   "cell_type": "code",
   "execution_count": null,
   "metadata": {},
   "outputs": [],
   "source": [
    "# Null value in data\n",
    "data.isnull().sum()"
   ]
  },
  {
   "cell_type": "code",
   "execution_count": null,
   "metadata": {},
   "outputs": [],
   "source": [
    "# change column name 'weather' to 'weathers'\n",
    "data.rename(columns = {'Weather' : 'Weathers'}).head()"
   ]
  },
  {
   "cell_type": "code",
   "execution_count": null,
   "metadata": {},
   "outputs": [],
   "source": [
    "#queston 6. mean/average of visbility\n",
    "data.head()\n",
    "data.Visibility_km.mean()"
   ]
  },
  {
   "cell_type": "code",
   "execution_count": null,
   "metadata": {},
   "outputs": [],
   "source": [
    "#find instance of 'Snow'\n",
    "data.Weather.value_counts()                #method 1\n",
    "data[data.Weather == 'Snow']              #Method 2 (filtering)\n",
    "data[data.Weather.str.contains('Snow')]   #str.contains('')"
   ]
  },
  {
   "cell_type": "code",
   "execution_count": null,
   "metadata": {
    "scrolled": false
   },
   "outputs": [],
   "source": [
    "# find instance in which visibility = 25 and wind speed more than 21\n",
    "data.Visibility_km.dtype\n",
    "data[(data.Visibility_km == 25) & (data['Wind Speed_km/h'] > 24)].head()"
   ]
  },
  {
   "cell_type": "code",
   "execution_count": null,
   "metadata": {},
   "outputs": [],
   "source": [
    "# Mean value of eaach column against weather condition\n",
    "data.groupby('Weather').mean()"
   ]
  },
  {
   "cell_type": "code",
   "execution_count": null,
   "metadata": {},
   "outputs": [],
   "source": [
    "#Maximum and minimum value in all weather conditions\n",
    "\n",
    "data.groupby('Weather').min()\n",
    "data.groupby('Weather').max()"
   ]
  },
  {
   "cell_type": "code",
   "execution_count": null,
   "metadata": {},
   "outputs": [],
   "source": [
    "# all instance of fog\n",
    "data[data.Weather == 'Fog']"
   ]
  },
  {
   "cell_type": "code",
   "execution_count": null,
   "metadata": {},
   "outputs": [],
   "source": [
    "# Show Weather is  clear and humidity more than 50 or visibility is more than 40\n",
    "data.head(2)\n",
    "data[((data.Weather=='Clear') & (data['Rel Hum_%'] > 50) | (data.Visibility_km > 40))]"
   ]
  }
 ],
 "metadata": {
  "kernelspec": {
   "display_name": "Python 3",
   "language": "python",
   "name": "python3"
  },
  "language_info": {
   "codemirror_mode": {
    "name": "ipython",
    "version": 3
   },
   "file_extension": ".py",
   "mimetype": "text/x-python",
   "name": "python",
   "nbconvert_exporter": "python",
   "pygments_lexer": "ipython3",
   "version": "3.7.3"
  }
 },
 "nbformat": 4,
 "nbformat_minor": 2
}
